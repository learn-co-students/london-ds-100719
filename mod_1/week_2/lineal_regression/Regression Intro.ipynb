{
 "cells": [
  {
   "cell_type": "code",
   "execution_count": null,
   "metadata": {},
   "outputs": [],
   "source": [
    "import numpy as np\n",
    "import pandas as pd\n",
    "import matplotlib.pyplot as plt"
   ]
  },
  {
   "cell_type": "code",
   "execution_count": null,
   "metadata": {},
   "outputs": [],
   "source": [
    "# This is just generating data\n",
    "n = 200\n",
    "x = np.random.sample(n)*20\n",
    "a = np.random.sample(n)*20 + 50\n",
    "\n",
    "b = 3.5\n",
    "y = b*x + a\n",
    "\n",
    "# We don't add the random error to our dataset, in real life it is unknown\n",
    "# We also don't know b apriori. b is exactly what we want to find\n",
    "# And the 'expected value' of a\n",
    "df = pd.DataFrame({'feature1':x})"
   ]
  },
  {
   "cell_type": "code",
   "execution_count": null,
   "metadata": {},
   "outputs": [],
   "source": [
    "# Having a look at the data\n",
    "\n",
    "df['target'] = y\n",
    "fig, ax = plt.subplots()\n",
    "ax.scatter(x,y)\n",
    "\n",
    "print(df.shape)\n",
    "df.head()"
   ]
  },
  {
   "cell_type": "code",
   "execution_count": null,
   "metadata": {},
   "outputs": [],
   "source": [
    "# Pre-processing\n",
    "X = df.drop('target',axis=1)\n",
    "y = df['target']"
   ]
  },
  {
   "cell_type": "markdown",
   "metadata": {},
   "source": [
    "### Regression in [SciKit Learn](https://scikit-learn.org/stable/modules/generated/sklearn.linear_model.LinearRegression.html)"
   ]
  },
  {
   "cell_type": "code",
   "execution_count": null,
   "metadata": {
    "scrolled": true
   },
   "outputs": [],
   "source": [
    "from sklearn.linear_model import LinearRegression\n",
    "\n",
    "# Setting up the LEARNER\n",
    "model_skl = LinearRegression(fit_intercept=True)\n",
    "\n",
    "# Actually LEARNING\n",
    "model_skl.fit(X,y)\n",
    "\n",
    "# Evaluating performance\n",
    "r2 = model_skl.score(X,y)\n",
    "r2 = r2.round(2)\n",
    "print('R2 = {}'.format(r2))\n",
    "\n",
    "# Understanding the LEARNED model\n",
    "est_a = model_skl.intercept_\n",
    "est_b = model_skl.coef_\n",
    "print('constant: {}'.format(round(est_a,4)))\n",
    "print('coeficients: real {} vs {} estimated'.format(b,est_b.round(4)))"
   ]
  },
  {
   "cell_type": "markdown",
   "metadata": {},
   "source": [
    "### Regression in [Statsmodels](https://www.statsmodels.org/dev/generated/statsmodels.regression.linear_model.OLS.html) and its [Interpretation](https://www.statsmodels.org/dev/generated/statsmodels.regression.linear_model.RegressionResults.html#statsmodels.regression.linear_model.RegressionResults)"
   ]
  },
  {
   "cell_type": "code",
   "execution_count": null,
   "metadata": {},
   "outputs": [],
   "source": [
    "import statsmodels.api as sm\n",
    "\n",
    "# Setting up the LEARNER\n",
    "X = sm.add_constant(X)\n",
    "model_sm = sm.OLS(y,X)\n",
    "\n",
    "# Actually LEARNING\n",
    "results = model_sm.fit()\n",
    "\n",
    "# Evaluating performance\n",
    "r2 = results.rsquared\n",
    "r2 = r2.round(2)\n",
    "print('R2 = {}'.format(r2))\n",
    "\n",
    "# # Understanding the LEARNED model\n",
    "est_b = results.params\n",
    "print(est_b.round(4))"
   ]
  },
  {
   "cell_type": "markdown",
   "metadata": {},
   "source": [
    "### Statsmodels superpower"
   ]
  },
  {
   "cell_type": "code",
   "execution_count": null,
   "metadata": {},
   "outputs": [],
   "source": [
    "results.summary()"
   ]
  },
  {
   "cell_type": "code",
   "execution_count": null,
   "metadata": {},
   "outputs": [],
   "source": []
  }
 ],
 "metadata": {
  "kernelspec": {
   "display_name": "Python 3",
   "language": "python",
   "name": "python3"
  },
  "language_info": {
   "codemirror_mode": {
    "name": "ipython",
    "version": 3
   },
   "file_extension": ".py",
   "mimetype": "text/x-python",
   "name": "python",
   "nbconvert_exporter": "python",
   "pygments_lexer": "ipython3",
   "version": "3.7.3"
  }
 },
 "nbformat": 4,
 "nbformat_minor": 2
}
