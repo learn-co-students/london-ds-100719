{
 "cells": [
  {
   "cell_type": "code",
   "execution_count": 2,
   "metadata": {},
   "outputs": [],
   "source": [
    "from IPython.display import IFrame"
   ]
  },
  {
   "cell_type": "markdown",
   "metadata": {},
   "source": [
    "# Intro to Object Oriented Programming"
   ]
  },
  {
   "cell_type": "markdown",
   "metadata": {},
   "source": [
    "This lecture is meant to offer and overview of OOP."
   ]
  },
  {
   "cell_type": "markdown",
   "metadata": {},
   "source": [
    "## A Brief History"
   ]
  },
  {
   "cell_type": "markdown",
   "metadata": {},
   "source": [
    "Programming as we know it today was first studied mathematically resulting in low-level languages (e.g. Machine Code) giving rise to higher-level languages (e.g. Lisp) that slowly gave way to the C-family of languages."
   ]
  },
  {
   "cell_type": "markdown",
   "metadata": {},
   "source": [
    "Over this period of time, a number of formal programming paradigms had been identified. These paradigms have grown in number and adoption [[link]](https://en.wikipedia.org/wiki/Comparison_of_multi-paradigm_programming_languages). One of these is the focus of today's lecture, *Object Oriented Programming* which was formulated in the 1970's, when **Adele Goldberg and Alan Kay** developed an object-oriented language at *Xerox PARC* called *SmallTalk*, which was used in the first personal computer."
   ]
  },
  {
   "cell_type": "markdown",
   "metadata": {},
   "source": [
    "<div>\n",
    "<img src=\"https://images.takeshape.io/fd194db7-7b25-4b5a-8cc7-da7f31fab475/dev/9c03190e-bf27-44a0-836c-3dcec3905d59/41141018870_571137392e_o.jpg?auto=compress%2Cformat&crop=faces&fit=crop&fm=jpg&h=360&q=70&w=540\" alt=\"cave painting of hands\" style=\"height: 200px; width: auto\"/><img src=\"https://www.hindustantimes.com/rf/image_size_960x540/HT/p2/2018/02/24/Pictures/_0a8bd750-193f-11e8-8f49-ddf93c7ed473.jpg\" alt=\"cave painting of hunt\" style=\"height: 200px; width: auto\"/>\n",
    "<img src=\"https://www.researchgate.net/profile/Daniele_Santamaria/publication/319622304/figure/fig1/AS:537245268156416@1505100661075/The-plan-of-Saint-Gall.png\" alt=\"plan of st. gall\" style=\"height: 200px; width: auto\"/>\n",
    "</div>"
   ]
  },
  {
   "cell_type": "markdown",
   "metadata": {},
   "source": [
    "## What is Object Oriented Programming?"
   ]
  },
  {
   "cell_type": "markdown",
   "metadata": {},
   "source": [
    "Object Oriented Programming (OOP) is programming paradigm that affords pratictioners the ability to **categorize, abstract and associate** entities in a domain. In short, it shines at communicating abstractions.\n",
    "\n",
    "\n",
    "It achieves this through it's four pillars:\n",
    "* **Encapsulation** - local state management\n",
    "* **Abstraction** - a simple, defined interface\n",
    "* **Inheritance** - globally shared composition\n",
    "* **Polymorphism** - locally unique composition\n",
    "\n",
    "Paradigms? Well, Edsgar Djikstra has this to say:\n",
    "\n",
    "> “The tools we use have a profound (and devious) influence on our thinking habits, and, therefore, on our thinking abilities.” ~ Prof. Edsger W. Dijkstra\n",
    "\n",
    "<img src=\"https://oziway.com/media/catalog/product/cache/47/image/850x/9df78eab33525d08d6e5fb8d27136e95/p/r/product1721063160-Grids-Food-Grade-Silicone-Ice-Tray-Fruit-Ice-Cube-Maker-DIY-Creative-Small-Ice-Cube.jpg_640x640.jpg\" alt=\"ice mould\" style=\"height: 250px; width: auto; text-align: center;\"/>\n",
    "\n",
    "Object Oriented Programming is like an ice mould. You can have various types of moulds with different colors, shapes e.t.c. (states), composed of smaller units that share the similar properties (length, width, height), each of which can contain unique mixtures (water, juice or jelly) and used for the a number of different purposes.\n",
    "\n",
    "Can you break down OOP's principles to the statements above?"
   ]
  },
  {
   "cell_type": "markdown",
   "metadata": {},
   "source": [
    "## Why Object Oriented Programming?"
   ]
  },
  {
   "cell_type": "markdown",
   "metadata": {},
   "source": [
    "> *An object-oriented approach to application development makes programs more **intuitive to design, faster to develop, more amenable to modification, and easier to understand**.*\n",
    "~ _Object-Oriented Programming with Objective-C, Apple Inc._"
   ]
  },
  {
   "cell_type": "markdown",
   "metadata": {},
   "source": [
    "This is a tricky question to answer with some rationale pointing to the fact that the most popular programming languages today generally tend to be OOP. The honest answer is that this is a bit more nuanced and depends on a number of factors, the most important of which is embodied in the **Law of the instrument** [[link]](https://en.wikipedia.org/wiki/Law_of_the_instrument):\n",
    "\n",
    "> _\"I suppose it is tempting, if the only tool you have is a hammer, to treat everything as if it were a nail.\"\n",
    "> ~ Abraham Maslow_\n",
    "\n",
    "In data science, a growing need for codebases that are easy to test, scale and maintain has led to the rise in OOP's usage in the field [[link]](https://opendatascience.com/an-introduction-to-object-oriented-data-science-in-python/). The general advantages of knowing/using OOP as a data scientist include but are not limited to the following:\n",
    "\n",
    "* **OOP robustness**. It produces highly reusable and maintainable code across teams and _'time'_.\n",
    "* **OOP prominence**. It is popular across industries; as a data scientist you are expected to integrate within those domains.\n",
    "* **OOP representations**. It aligns well with cognition theory and the concept of schemata.\n",
    "\n",
    "Remember, OOP is only a tool in your toolkit. The true mark of any expert is their use of all faculties available to them."
   ]
  },
  {
   "cell_type": "code",
   "execution_count": 3,
   "metadata": {},
   "outputs": [
    {
     "data": {
      "text/html": [
       "\n",
       "        <iframe\n",
       "            width=\"700\"\n",
       "            height=\"350\"\n",
       "            src=\"https://www.youtube.com/embed/Og847HVwRSI\"\n",
       "            frameborder=\"0\"\n",
       "            allowfullscreen\n",
       "        ></iframe>\n",
       "        "
      ],
      "text/plain": [
       "<IPython.lib.display.IFrame at 0x1033a73c8>"
      ]
     },
     "execution_count": 3,
     "metadata": {},
     "output_type": "execute_result"
    }
   ],
   "source": [
    "IFrame('https://www.youtube.com/embed/Og847HVwRSI', width=700, height=350)"
   ]
  },
  {
   "cell_type": "markdown",
   "metadata": {
    "colab_type": "text",
    "heading_collapsed": true,
    "hidden": true,
    "id": "LOSB70AC_F55"
   },
   "source": [
    "### Creating a Class\n",
    "\n",
    "#### Class == Blueprint\n",
    "\n",
    "#### Instance == Manifestation"
   ]
  },
  {
   "cell_type": "code",
   "execution_count": 4,
   "metadata": {},
   "outputs": [
    {
     "data": {
      "text/plain": [
       "Ellipsis"
      ]
     },
     "execution_count": 4,
     "metadata": {},
     "output_type": "execute_result"
    }
   ],
   "source": [
    "# The coding flow you've come to know so far\n",
    "# goes like this.\n",
    "\n",
    "import pandas as pd\n",
    "\n",
    "df = pd.read_csv('blah.csv')\n",
    "\n",
    "def data_cleaning_for_blah_dataset(data):\n",
    "    cleaned_data = ... # do stuff to clean data\n",
    "    return cleaned_data\n",
    "\n",
    "def outlier_detection_for_blah_dataset(cleaned_data):\n",
    "    flier_free_data = ... # do stuff to filter outliers from data\n",
    "    outliers = ... # do stuff to select outliers from data\n",
    "    return outliers, flier_free_data\n",
    "\n",
    "cleaned_data = data_cleaning_for_blah_dataset(df)\n",
    "outliers, no_outlier_data = outlier_detection_for_blah_dataset(cleaned_data)\n",
    "\n",
    "..."
   ]
  },
  {
   "cell_type": "markdown",
   "metadata": {
    "colab_type": "text",
    "hidden": true,
    "id": "032liMjNrvmQ"
   },
   "source": [
    "### Simple Code"
   ]
  },
  {
   "cell_type": "code",
   "execution_count": 5,
   "metadata": {
    "colab": {},
    "colab_type": "code",
    "hidden": true,
    "id": "1cJl2ydsrtp8"
   },
   "outputs": [],
   "source": [
    "# Essentially a blank template since we never defined any attributes\n",
    "\n",
    "class Robot():\n",
    "  pass\n"
   ]
  },
  {
   "cell_type": "code",
   "execution_count": 6,
   "metadata": {
    "colab": {},
    "colab_type": "code",
    "hidden": true,
    "id": "BFeR2Q-hsArS"
   },
   "outputs": [],
   "source": [
    "# Give it life!\n",
    "my_robot = Robot()\n",
    "my_robot.name = 'Wall-E'\n",
    "my_robot.height = 100  # cm\n",
    "\n",
    "your_robot = Robot()\n",
    "your_robot.name = 'Rob'\n",
    "your_robot.height = 200 # cm"
   ]
  },
  {
   "cell_type": "code",
   "execution_count": 7,
   "metadata": {
    "colab": {
     "base_uri": "https://localhost:8080/",
     "height": 51
    },
    "colab_type": "code",
    "hidden": true,
    "id": "A30Q95gusS8U",
    "outputId": "fc8bf769-1142-4ca3-e614-e6097fad9e16"
   },
   "outputs": [
    {
     "name": "stdout",
     "output_type": "stream",
     "text": [
      "Wall-E 100\n",
      "Rob 200\n"
     ]
    }
   ],
   "source": [
    "# They live!!!!!\n",
    "print(my_robot.name, my_robot.height)\n",
    "print(your_robot.name, your_robot.height)"
   ]
  },
  {
   "cell_type": "code",
   "execution_count": 8,
   "metadata": {
    "colab": {
     "base_uri": "https://localhost:8080/",
     "height": 164
    },
    "colab_type": "code",
    "hidden": true,
    "id": "SAatCwJWsi44",
    "outputId": "5f170686-c666-4997-f47b-1e36cc8b25fa"
   },
   "outputs": [
    {
     "ename": "AttributeError",
     "evalue": "'Robot' object has no attribute 'purpose'",
     "output_type": "error",
     "traceback": [
      "\u001b[0;31m---------------------------------------------------------------------------\u001b[0m",
      "\u001b[0;31mAttributeError\u001b[0m                            Traceback (most recent call last)",
      "\u001b[0;32m<ipython-input-8-17cc43eb6f1c>\u001b[0m in \u001b[0;36m<module>\u001b[0;34m()\u001b[0m\n\u001b[1;32m      1\u001b[0m \u001b[0;31m# Uh oh, we didn't give it this attribute\u001b[0m\u001b[0;34m\u001b[0m\u001b[0;34m\u001b[0m\u001b[0m\n\u001b[0;32m----> 2\u001b[0;31m \u001b[0mprint\u001b[0m\u001b[0;34m(\u001b[0m\u001b[0mmy_robot\u001b[0m\u001b[0;34m.\u001b[0m\u001b[0mpurpose\u001b[0m\u001b[0;34m)\u001b[0m\u001b[0;34m\u001b[0m\u001b[0m\n\u001b[0m",
      "\u001b[0;31mAttributeError\u001b[0m: 'Robot' object has no attribute 'purpose'"
     ]
    }
   ],
   "source": [
    "# Uh oh, we didn't give it this attribute\n",
    "print(my_robot.purpose)"
   ]
  },
  {
   "cell_type": "markdown",
   "metadata": {
    "colab_type": "text",
    "hidden": true,
    "id": "wXk49lOwr8Qt"
   },
   "source": [
    "### Make a better Class/Mold/Blueprint"
   ]
  },
  {
   "cell_type": "code",
   "execution_count": 9,
   "metadata": {
    "colab": {},
    "colab_type": "code",
    "hidden": true,
    "id": "lSKLy546sKbE"
   },
   "outputs": [],
   "source": [
    "class Robot():\n",
    "  # All robots should love humans\n",
    "  purpose = 'To love humans'"
   ]
  },
  {
   "cell_type": "code",
   "execution_count": 10,
   "metadata": {
    "colab": {},
    "colab_type": "code",
    "hidden": true,
    "id": "p-L0uMMYs2l7"
   },
   "outputs": [],
   "source": [
    "# Give it life!\n",
    "my_robot = Robot()\n",
    "my_robot.name = 'Wall-E'\n",
    "my_robot.height = 100  # cm\n",
    "\n",
    "your_robot = Robot()\n",
    "your_robot.name = 'Rob'\n",
    "your_robot.height = 200 # cm"
   ]
  },
  {
   "cell_type": "code",
   "execution_count": 11,
   "metadata": {
    "colab": {
     "base_uri": "https://localhost:8080/",
     "height": 68
    },
    "colab_type": "code",
    "hidden": true,
    "id": "ta3gZ8wWs5AC",
    "outputId": "072c3893-4d64-4451-9637-f93e81938775"
   },
   "outputs": [
    {
     "name": "stdout",
     "output_type": "stream",
     "text": [
      "What is your purpose?\n",
      "\n",
      "To love humans\n"
     ]
    }
   ],
   "source": [
    "print('What is your purpose?\\n')\n",
    "print(my_robot.purpose)"
   ]
  },
  {
   "cell_type": "code",
   "execution_count": 12,
   "metadata": {
    "colab": {
     "base_uri": "https://localhost:8080/",
     "height": 68
    },
    "colab_type": "code",
    "hidden": true,
    "id": "oIYEOFQMtP_u",
    "outputId": "7c49aaa6-aa6f-452d-830d-d439283b89c4"
   },
   "outputs": [
    {
     "name": "stdout",
     "output_type": "stream",
     "text": [
      "What is your name and your purpose?\n",
      "\n",
      "My name is Bender and my purpose is TO KILL ALL HUMANS!!!\n"
     ]
    }
   ],
   "source": [
    "# Rogue robot!!!\n",
    "evil_robot = Robot()\n",
    "evil_robot.name = 'Bender'\n",
    "evil_robot.purpose = 'TO KILL ALL HUMANS!!!'\n",
    "\n",
    "print('What is your name and your purpose?\\n')\n",
    "print(f'My name is {evil_robot.name} and my purpose is {evil_robot.purpose}')"
   ]
  },
  {
   "cell_type": "markdown",
   "metadata": {
    "colab_type": "text",
    "hidden": true,
    "id": "TXLmvlT__K9y"
   },
   "source": [
    "### Instantiating an Object (using our mold)"
   ]
  },
  {
   "cell_type": "markdown",
   "metadata": {
    "colab_type": "text",
    "hidden": true,
    "id": "I6d-VcuulhDy"
   },
   "source": [
    "#### Example Code\n"
   ]
  },
  {
   "cell_type": "code",
   "execution_count": 13,
   "metadata": {
    "colab": {},
    "colab_type": "code",
    "hidden": true,
    "id": "Wq53m6lEliok"
   },
   "outputs": [],
   "source": [
    "\n",
    "my_robot = Robot()\n",
    "my_robot.name = 'Wall-E'\n",
    "my_robot.height = 100  # cm\n",
    "\n",
    "your_robot = Robot()\n",
    "your_robot.name = 'Rob'\n",
    "your_robot.height = 200 # cm"
   ]
  },
  {
   "cell_type": "code",
   "execution_count": 14,
   "metadata": {
    "colab": {
     "base_uri": "https://localhost:8080/",
     "height": 34
    },
    "colab_type": "code",
    "hidden": true,
    "id": "4GTuL4aImMW4",
    "outputId": "4dad34e4-8e2f-45b5-96f5-3bff5cf76765"
   },
   "outputs": [
    {
     "name": "stdout",
     "output_type": "stream",
     "text": [
      "Rob is the tallest bot at 200 cm\n"
     ]
    }
   ],
   "source": [
    "# Who's taller?\n",
    "\n",
    "# Tie defaults to my bot 😁\n",
    "tall_bot = my_robot if my_robot.height >= your_robot.height else your_robot\n",
    "\n",
    "# Alternative code\n",
    "## if my_robot.height >= your_robot.height:\n",
    "##     tall_bot = my_robot\n",
    "## else:\n",
    "##     tall_bot = your_robot\n",
    "\n",
    "print(f'{tall_bot.name} is the tallest bot at {tall_bot.height} cm')"
   ]
  },
  {
   "cell_type": "markdown",
   "metadata": {
    "colab_type": "text",
    "hidden": true,
    "id": "Ee-dPiBt_UzL"
   },
   "source": [
    "### You're both people, so you must be the same person, right?"
   ]
  },
  {
   "cell_type": "code",
   "execution_count": 15,
   "metadata": {
    "colab": {
     "base_uri": "https://localhost:8080/",
     "height": 68
    },
    "colab_type": "code",
    "hidden": true,
    "id": "AsR5SjyZoGkO",
    "outputId": "c249fe22-6f49-4d8b-e8d9-a942298493d8"
   },
   "outputs": [
    {
     "name": "stdout",
     "output_type": "stream",
     "text": [
      "Where are you (in memory)?\n",
      "<__main__.Robot object at 0x11325c400>\n",
      "<__main__.Robot object at 0x11325c438>\n"
     ]
    }
   ],
   "source": [
    "# You guys taking up my (memory) space\n",
    "print('Where are you (in memory)?')\n",
    "print(my_robot)\n",
    "print(your_robot)"
   ]
  },
  {
   "cell_type": "code",
   "execution_count": 16,
   "metadata": {
    "colab": {
     "base_uri": "https://localhost:8080/",
     "height": 68
    },
    "colab_type": "code",
    "hidden": true,
    "id": "dB4njJXQneG4",
    "outputId": "53373a24-edad-49e5-86e7-bdf92fd8ce91"
   },
   "outputs": [
    {
     "name": "stdout",
     "output_type": "stream",
     "text": [
      "Are you the same (using ==)? False\n",
      "Are you the same (using is)? False\n",
      "Are you yourself? True\n"
     ]
    }
   ],
   "source": [
    "# Are you the same..?\n",
    "print(f'Are you the same (using ==)? {my_robot == your_robot}')\n",
    "print(f'Are you the same (using is)? {my_robot is your_robot}')\n",
    "print(f'Are you yourself? {my_robot == my_robot}')"
   ]
  },
  {
   "cell_type": "code",
   "execution_count": 17,
   "metadata": {
    "colab": {
     "base_uri": "https://localhost:8080/",
     "height": 85
    },
    "colab_type": "code",
    "hidden": true,
    "id": "hac7WhjruOPr",
    "outputId": "41980895-105f-44d8-f9c8-29f6436e372b"
   },
   "outputs": [
    {
     "name": "stdout",
     "output_type": "stream",
     "text": [
      "Are you the same (using ==)? False\n",
      "Are you the same (using is)? False\n",
      "<__main__.Robot object at 0x11325c780>\n",
      "<__main__.Robot object at 0x11325c748>\n"
     ]
    }
   ],
   "source": [
    "generic_robot0 = Robot()\n",
    "generic_robot1 = Robot()\n",
    "\n",
    "# Are you the same..?\n",
    "print(f'Are you the same (using ==)? {generic_robot0 == generic_robot1}')\n",
    "print(f'Are you the same (using is)? {generic_robot0 is generic_robot1}')\n",
    "\n",
    "print(generic_robot0)\n",
    "print(generic_robot1)\n"
   ]
  },
  {
   "cell_type": "code",
   "execution_count": 18,
   "metadata": {
    "colab": {
     "base_uri": "https://localhost:8080/",
     "height": 51
    },
    "colab_type": "code",
    "hidden": true,
    "id": "1Jo4mShFup3I",
    "outputId": "793337aa-d3d5-4d92-ed6c-e1c7d193ad1d"
   },
   "outputs": [
    {
     "name": "stdout",
     "output_type": "stream",
     "text": [
      "Are you the same (using ==)? True\n",
      "Are you the same (using is)? True\n"
     ]
    }
   ],
   "source": [
    "# You didn't make a copy\n",
    "same_robot = generic_robot0\n",
    "\n",
    "print(f'Are you the same (using ==)? {generic_robot0 == same_robot}')\n",
    "print(f'Are you the same (using is)? {generic_robot0 is same_robot}')\n",
    "\n"
   ]
  },
  {
   "cell_type": "code",
   "execution_count": 19,
   "metadata": {
    "colab": {
     "base_uri": "https://localhost:8080/",
     "height": 51
    },
    "colab_type": "code",
    "hidden": true,
    "id": "RFUpptCKjHuF",
    "outputId": "1cf04d51-1461-40da-f51b-b0d5b7f98406"
   },
   "outputs": [
    {
     "name": "stdout",
     "output_type": "stream",
     "text": [
      "<__main__.Robot object at 0x11325c780>\n",
      "<__main__.Robot object at 0x11325c780>\n"
     ]
    }
   ],
   "source": [
    "print(same_robot)\n",
    "print(generic_robot0)"
   ]
  },
  {
   "cell_type": "code",
   "execution_count": 20,
   "metadata": {
    "colab": {
     "base_uri": "https://localhost:8080/",
     "height": 34
    },
    "colab_type": "code",
    "hidden": true,
    "id": "aTlJTfYHi14s",
    "outputId": "4b69aba4-b11c-4d93-ca78-599e419d2b4e"
   },
   "outputs": [
    {
     "name": "stdout",
     "output_type": "stream",
     "text": [
      "0001 0001\n"
     ]
    }
   ],
   "source": [
    "same_robot.name = '0001'\n",
    "\n",
    "print(same_robot.name, generic_robot0.name)"
   ]
  },
  {
   "cell_type": "markdown",
   "metadata": {
    "colab_type": "text",
    "heading_collapsed": true,
    "id": "hikhGgfn8v-R"
   },
   "source": [
    "# An Object's Attributes: Methods, Variables, Self"
   ]
  },
  {
   "cell_type": "markdown",
   "metadata": {
    "colab_type": "text",
    "hidden": true,
    "id": "q1QLcm_EAQlH"
   },
   "source": [
    "### How do Objects vary? With VARI-ables"
   ]
  },
  {
   "cell_type": "code",
   "execution_count": 21,
   "metadata": {
    "colab": {},
    "colab_type": "code",
    "hidden": true,
    "id": "iMOfi61s3FU2"
   },
   "outputs": [],
   "source": [
    "class Robot():\n",
    "    # The following are all class variables.\n",
    "    name = None\n",
    "    material = 'Metal'\n",
    "    is_electric = True\n",
    "    num_of_arms = 2"
   ]
  },
  {
   "cell_type": "code",
   "execution_count": 22,
   "metadata": {
    "colab": {
     "base_uri": "https://localhost:8080/",
     "height": 119
    },
    "colab_type": "code",
    "hidden": true,
    "id": "pNJkmPe13zLz",
    "outputId": "11b61cce-ee67-4bec-9a3e-e1bdee909e4a"
   },
   "outputs": [
    {
     "name": "stdout",
     "output_type": "stream",
     "text": [
      "\n",
      "    name: None\n",
      "    material: Metal\n",
      "    is_electric: True\n",
      "    num_of_arms: 2\n",
      "\n"
     ]
    }
   ],
   "source": [
    "walle = Robot()\n",
    "\n",
    "# Our class variables are still all accessible to our instances\n",
    "print(f'''\n",
    "    name: {walle.name}\n",
    "    material: {walle.material}\n",
    "    is_electric: {walle.is_electric}\n",
    "    num_of_arms: {walle.num_of_arms}\n",
    "''')"
   ]
  },
  {
   "cell_type": "code",
   "execution_count": 23,
   "metadata": {
    "colab": {
     "base_uri": "https://localhost:8080/",
     "height": 136
    },
    "colab_type": "code",
    "hidden": true,
    "id": "r8d6QcfH32vK",
    "outputId": "4ec355de-9941-4c43-e085-64c033e0ae5c"
   },
   "outputs": [
    {
     "name": "stdout",
     "output_type": "stream",
     "text": [
      "\n",
      "    name: Wall-E\n",
      "    material: Metal\n",
      "    is_electric: True\n",
      "    num_of_arms: 2\n",
      "    is_solar: True\n",
      "\n",
      "\n",
      "    name: None\n",
      "    material: Metal\n",
      "    is_electric: True\n",
      "    num_of_arms: 2\n",
      "\n"
     ]
    }
   ],
   "source": [
    "# Changing an attribute\n",
    "walle.name = 'Wall-E'\n",
    "# Adding a new attribute\n",
    "walle.is_solar = True\n",
    "\n",
    "print(f'''\n",
    "    name: {walle.name}\n",
    "    material: {walle.material}\n",
    "    is_electric: {walle.is_electric}\n",
    "    num_of_arms: {walle.num_of_arms}\n",
    "    is_solar: {walle.is_solar}\n",
    "''')\n",
    "\n",
    "# While remaining static to the class itself\n",
    "print(f'''\n",
    "    name: {Robot.name}\n",
    "    material: {Robot.material}\n",
    "    is_electric: {Robot.is_electric}\n",
    "    num_of_arms: {Robot.num_of_arms}\n",
    "''')\n",
    "\n",
    "# This is somewhat confusing, but as a general rule of thumb:\n",
    "# - Give consideration for what should be an instance variable vs what shouldn't\n",
    "# - For example, it does not make logical sense for the parent class Robot\n",
    "#  to have a name since that is specific to it's instances."
   ]
  },
  {
   "cell_type": "markdown",
   "metadata": {
    "colab_type": "text",
    "hidden": true,
    "id": "odgi8E10AGuG"
   },
   "source": [
    "### Methods _are_ functions"
   ]
  },
  {
   "cell_type": "markdown",
   "metadata": {
    "colab_type": "text",
    "hidden": true,
    "id": "Q-fmUUzu9sY8"
   },
   "source": [
    "#### Class methods (belongs to the Class/mold)"
   ]
  },
  {
   "cell_type": "markdown",
   "metadata": {
    "colab_type": "text",
    "hidden": true,
    "id": "h-Fs0iZ0A-KW"
   },
   "source": [
    "##### Example Code\n"
   ]
  },
  {
   "cell_type": "code",
   "execution_count": 35,
   "metadata": {
    "colab": {},
    "colab_type": "code",
    "hidden": true,
    "id": "JWIZJRdq6sFf"
   },
   "outputs": [
    {
     "name": "stdout",
     "output_type": "stream",
     "text": [
      "3. Third Law:\tA robot must protect its own existence as long as such protection does not conflict with the First or Second Laws.\n",
      "False\n"
     ]
    }
   ],
   "source": [
    "class Robot():\n",
    "\n",
    "    laws_of_robotics = [\n",
    "        '1. First Law:\tA robot may not injure a human being or, through inaction, allow a human being to come to harm.',\n",
    "        '2. Second Law:\tA robot must obey the orders given it by human beings except where such orders would conflict with the First Law.',\n",
    "        '3. Third Law:\tA robot must protect its own existence as long as such protection does not conflict with the First or Second Laws.'\n",
    "    ]\n",
    "    \n",
    "    all = []\n",
    "    \n",
    "    def __init__(self, name):\n",
    "        '''\n",
    "        We have a constructor that takes a name\n",
    "        And creates a robot with a 'good' attribute\n",
    "        that's set to True by default.\n",
    "        '''\n",
    "        self.name = name\n",
    "        self.good = True\n",
    "        # We can access the parent class' all variable\n",
    "        # and save every instance of robot created.\n",
    "        self.__class__.all.append(self)\n",
    "    \n",
    "    def merit(self):\n",
    "        '''\n",
    "        This function gives the robot a merit\n",
    "        '''\n",
    "        self.good = True\n",
    "    \n",
    "    def demerit(self):\n",
    "        '''\n",
    "        This function gives the robot a demerit\n",
    "        '''\n",
    "        self.good = False\n",
    "    \n",
    "    @classmethod\n",
    "    def are_good(cls):\n",
    "        # setting it to a classmethod\n",
    "        # allows our class Robot to access this method.\n",
    "        # (This works differently to languages like C++ or Java, hence the hangup in the lecture lol)\n",
    "        virtue_list = list(map(lambda x: x.good, cls.all))\n",
    "        return int(sum(virtue_list)/len(virtue_list)) == True\n",
    "\n",
    "    @classmethod\n",
    "    def print_laws(cls):\n",
    "        for law in Robot.laws_of_robotics:\n",
    "            print(law)\n",
    "\n",
    "    @classmethod\n",
    "    def print_n_law(cls, n):\n",
    "        # Check the law exists\n",
    "        if n < 1 or n > 3:\n",
    "            print('The #{n} law doesn\\'t exist')\n",
    "            return\n",
    "        return cls.laws_of_robotics[n]\n",
    "\n",
    "n = 0\n",
    "print(Robot.laws_of_robotics[n-1])\n",
    "walle = Robot('Wall-E')\n",
    "irobot = Robot('iRobot')\n",
    "terminator = Robot('Terminator')\n",
    "terminator.demerit()\n",
    "print(irobot.are_good())\n",
    "    "
   ]
  },
  {
   "cell_type": "code",
   "execution_count": 25,
   "metadata": {
    "colab": {},
    "colab_type": "code",
    "hidden": true,
    "id": "FN8PpybD8Lj6"
   },
   "outputs": [
    {
     "data": {
      "text/plain": [
       "['1. First Law:\\tA robot may not injure a human being or, through inaction, allow a human being to come to harm.',\n",
       " '2. Second Law:\\tA robot must obey the orders given it by human beings except where such orders would conflict with the First Law.',\n",
       " '3. Third Law:\\tA robot must protect its own existence as long as such protection does not conflict with the First or Second Laws.']"
      ]
     },
     "execution_count": 25,
     "metadata": {},
     "output_type": "execute_result"
    }
   ],
   "source": [
    "Robot.laws_of_robotics"
   ]
  },
  {
   "cell_type": "code",
   "execution_count": 26,
   "metadata": {
    "colab": {},
    "colab_type": "code",
    "hidden": true,
    "id": "8KY_qHEb7A-k"
   },
   "outputs": [
    {
     "name": "stdout",
     "output_type": "stream",
     "text": [
      "1. First Law:\tA robot may not injure a human being or, through inaction, allow a human being to come to harm.\n",
      "2. Second Law:\tA robot must obey the orders given it by human beings except where such orders would conflict with the First Law.\n",
      "3. Third Law:\tA robot must protect its own existence as long as such protection does not conflict with the First or Second Laws.\n"
     ]
    }
   ],
   "source": [
    "Robot.print_laws()"
   ]
  },
  {
   "cell_type": "code",
   "execution_count": 36,
   "metadata": {
    "colab": {},
    "colab_type": "code",
    "hidden": true,
    "id": "kL89xcZs8QX7"
   },
   "outputs": [
    {
     "data": {
      "text/plain": [
       "'3. Third Law:\\tA robot must protect its own existence as long as such protection does not conflict with the First or Second Laws.'"
      ]
     },
     "execution_count": 36,
     "metadata": {},
     "output_type": "execute_result"
    }
   ],
   "source": [
    "Robot.print_n_law(2)"
   ]
  },
  {
   "cell_type": "markdown",
   "metadata": {
    "colab_type": "text",
    "hidden": true,
    "id": "2rfQ_v1B9zWi"
   },
   "source": [
    "##### Does Wall-E have these functions (methods)?"
   ]
  },
  {
   "cell_type": "code",
   "execution_count": 29,
   "metadata": {
    "colab": {},
    "colab_type": "code",
    "hidden": true,
    "id": "iXLCr2c-8cha"
   },
   "outputs": [],
   "source": [
    "# Note what happens with Wall-e\n",
    "walle = Robot('walle')"
   ]
  },
  {
   "cell_type": "code",
   "execution_count": 30,
   "metadata": {
    "colab": {},
    "colab_type": "code",
    "hidden": true,
    "id": "IkemYPyI9mDy"
   },
   "outputs": [
    {
     "data": {
      "text/plain": [
       "['1. First Law:\\tA robot may not injure a human being or, through inaction, allow a human being to come to harm.',\n",
       " '2. Second Law:\\tA robot must obey the orders given it by human beings except where such orders would conflict with the First Law.',\n",
       " '3. Third Law:\\tA robot must protect its own existence as long as such protection does not conflict with the First or Second Laws.']"
      ]
     },
     "execution_count": 30,
     "metadata": {},
     "output_type": "execute_result"
    }
   ],
   "source": [
    "# Has the laws built in \n",
    "walle.laws_of_robotics"
   ]
  },
  {
   "cell_type": "code",
   "execution_count": 37,
   "metadata": {
    "colab": {},
    "colab_type": "code",
    "hidden": true,
    "id": "a6R5CNBr9mhw"
   },
   "outputs": [
    {
     "name": "stdout",
     "output_type": "stream",
     "text": [
      "1. First Law:\tA robot may not injure a human being or, through inaction, allow a human being to come to harm.\n",
      "2. Second Law:\tA robot must obey the orders given it by human beings except where such orders would conflict with the First Law.\n",
      "3. Third Law:\tA robot must protect its own existence as long as such protection does not conflict with the First or Second Laws.\n"
     ]
    }
   ],
   "source": [
    "# Let's have Wall-E print out those laws too! (Wait, can he do that...?)\n",
    "walle.print_laws()"
   ]
  },
  {
   "cell_type": "markdown",
   "metadata": {
    "colab_type": "text",
    "hidden": true,
    "id": "hXmKGmhlANy0"
   },
   "source": [
    "### Who me? Knowing yourSELF\n",
    "\n"
   ]
  },
  {
   "cell_type": "code",
   "execution_count": 38,
   "metadata": {
    "colab": {},
    "colab_type": "code",
    "hidden": true,
    "id": "3yyS7dKp3BNb"
   },
   "outputs": [],
   "source": [
    "class Robot():\n",
    "    name = None\n",
    "    material = 'Metal'\n",
    "    is_electric = True\n",
    "    num_of_arms = 2\n",
    "\n",
    "    # These methods belong to the Object (its self)\n",
    "    def speak(self):\n",
    "        print(f'I am {self.name}!')\n",
    "\n",
    "    def add_numbers(self, num0, num1):\n",
    "        total = num0 + num1\n",
    "        return total"
   ]
  },
  {
   "cell_type": "code",
   "execution_count": 39,
   "metadata": {
    "colab": {},
    "colab_type": "code",
    "hidden": true,
    "id": "AqBHlt_K5JTe"
   },
   "outputs": [
    {
     "name": "stdout",
     "output_type": "stream",
     "text": [
      "\n",
      "name: None\n",
      "material: Metal\n",
      "is_electric: True\n",
      "num_of_arms: 2\n",
      "\n",
      "I am None!\n"
     ]
    },
    {
     "data": {
      "text/plain": [
       "101"
      ]
     },
     "execution_count": 39,
     "metadata": {},
     "output_type": "execute_result"
    }
   ],
   "source": [
    "walle = Robot()\n",
    "\n",
    "print(f'''\n",
    "name: {walle.name}\n",
    "material: {walle.material}\n",
    "is_electric: {walle.is_electric}\n",
    "num_of_arms: {walle.num_of_arms}\n",
    "''')\n",
    "\n",
    "walle.speak()\n",
    "walle.add_numbers(100,1)"
   ]
  },
  {
   "cell_type": "code",
   "execution_count": 40,
   "metadata": {
    "colab": {},
    "colab_type": "code",
    "hidden": true,
    "id": "qpZozIdC5Rag"
   },
   "outputs": [
    {
     "name": "stdout",
     "output_type": "stream",
     "text": [
      "I am Wall-E!\n"
     ]
    }
   ],
   "source": [
    "# Changing an attribute\n",
    "walle.name = 'Wall-E'\n",
    "walle.speak()"
   ]
  },
  {
   "cell_type": "code",
   "execution_count": 41,
   "metadata": {
    "colab": {},
    "colab_type": "code",
    "hidden": true,
    "id": "jYWk4v3j5fc_"
   },
   "outputs": [
    {
     "name": "stdout",
     "output_type": "stream",
     "text": [
      "Wwaaaalllll-eeeee!!!\n"
     ]
    }
   ],
   "source": [
    "# Changing how Wall-E talks (a little more advanced)\n",
    "walle.speak = lambda : print('Wwaaaalllll-eeeee!!!')\n",
    "walle.speak()"
   ]
  }
 ],
 "metadata": {
  "kernelspec": {
   "display_name": "Python 3",
   "language": "python",
   "name": "python3"
  },
  "language_info": {
   "codemirror_mode": {
    "name": "ipython",
    "version": 3
   },
   "file_extension": ".py",
   "mimetype": "text/x-python",
   "name": "python",
   "nbconvert_exporter": "python",
   "pygments_lexer": "ipython3",
   "version": "3.7.0"
  }
 },
 "nbformat": 4,
 "nbformat_minor": 4
}
