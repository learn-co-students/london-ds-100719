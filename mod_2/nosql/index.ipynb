{
 "cells": [
  {
   "cell_type": "markdown",
   "metadata": {},
   "source": [
    "<h1 style='text-align:center'>NoSQL - Not Only SQL</h1>"
   ]
  },
  {
   "cell_type": "markdown",
   "metadata": {},
   "source": [
    "#### Why No SQL?"
   ]
  },
  {
   "cell_type": "markdown",
   "metadata": {},
   "source": [
    "- Costly scaling - SQL requires structured data. This structure comes at a cost of suboptimal write/read speeds at scale (SQL's formal approach to managing relational data is what underpins its guarantees e.g. transactional).\n",
    "\n",
    "\n",
    "- Rigid SQL structure - if you want to change the schema it requires you to change all of your existing data to match the new schema which can take a long time.\n",
    "\n",
    "\n",
    "- Data explosion - Large/big and unstructured data requires distributed computing (many computers working together to accomplish the same task). Executing distributed joins is a very complex problem in relational databases and can take a really long time."
   ]
  },
  {
   "cell_type": "markdown",
   "metadata": {},
   "source": [
    "#### What does NoSQL offer? "
   ]
  },
  {
   "cell_type": "markdown",
   "metadata": {},
   "source": [
    "- Schemaless − Number of fields, content and size of the data object can differ from one data object to another.\n",
    "- Elasticity - To scale up and handle more queries, just add more machines.\n",
    "- Dynamic Data - You can store virtually any kind of data and change the database schema on the fly.\n",
    "- Flexible - Document objects can be unique thereby supporting unstructured data.\n",
    "- Performant - No complex joins."
   ]
  },
  {
   "cell_type": "markdown",
   "metadata": {},
   "source": [
    "#### Types of NoSQL Databases"
   ]
  },
  {
   "cell_type": "markdown",
   "metadata": {},
   "source": [
    "<img style='width: 400px' src='images/nosql-types.png/'>"
   ]
  },
  {
   "cell_type": "markdown",
   "metadata": {},
   "source": [
    "<b>Document databases</b> pair each key with a complex data structure known as a document. Documents can contain many different key-value pairs, or key-array pairs, or even nested documents."
   ]
  },
  {
   "cell_type": "markdown",
   "metadata": {},
   "source": [
    "<img  style='align: center; width:150px' src='images/mongodb.png' />\n",
    "<img style='align: center;' src='images/couchdb.png' />\n",
    "<img style='align: center; width: 200px' src='images/documentdb.png' />"
   ]
  },
  {
   "cell_type": "markdown",
   "metadata": {},
   "source": [
    "<b>Graph stores</b> are used to store information about networks of data, such as social connections. Graph stores include Neo4J and Giraph."
   ]
  },
  {
   "cell_type": "markdown",
   "metadata": {},
   "source": [
    "<img style='align: center;' src='images/neo4j.png' />\n",
    "<img  style='align: center; width:150px' src='images/ApacheGiraph.svg' />\n",
    "<img style='align: center;' src='images/networkx.jpg' />"
   ]
  },
  {
   "cell_type": "markdown",
   "metadata": {},
   "source": [
    "<b>Key-value</b> stores are the simplest NoSQL databases. Every single item in the database is stored as an attribute name (or 'key'), together with its value. Examples of key-value stores are Riak and Berkeley DB. "
   ]
  },
  {
   "cell_type": "markdown",
   "metadata": {},
   "source": [
    "<b>Wide-column stores</b> such as Cassandra and HBase are optimized for queries over large datasets, and store columns of data together, instead of rows."
   ]
  },
  {
   "cell_type": "markdown",
   "metadata": {},
   "source": [
    "## What is MongoDB"
   ]
  },
  {
   "cell_type": "markdown",
   "metadata": {},
   "source": [
    "MongoDB stores data in flexible, JSON-like documents, meaning fields can vary from document to document and data structure can be changed over time"
   ]
  },
  {
   "cell_type": "markdown",
   "metadata": {},
   "source": [
    "<b>Data Structure</b>\n",
    "\n",
    "Single Entry = Document"
   ]
  },
  {
   "cell_type": "markdown",
   "metadata": {},
   "source": [
    "```json\n",
    "{ \n",
    "  _id: ObjectId(8af37bd7891c), \n",
    "  title: 'MongoDB Lab',\n",
    "  description: 'Introductory lab on how to use MongoDB',\n",
    "  by: 'Flatiron School',\n",
    "  topics: ['mongodb', 'database', 'NoSQL', 'JSON']  \n",
    "}\n",
    "```"
   ]
  },
  {
   "cell_type": "markdown",
   "metadata": {},
   "source": [
    "You can embed documents inside documents! "
   ]
  },
  {
   "cell_type": "markdown",
   "metadata": {},
   "source": [
    "<img src ='images/househouse.gif' />"
   ]
  },
  {
   "cell_type": "markdown",
   "metadata": {},
   "source": [
    "```json\n",
    "{ \n",
    "  _id: ObjectId(8af37bd78ssc), \n",
    "  title: 'Other Lab',\n",
    "  description: 'Introductory lab on how to use something',\n",
    "  by: 'Flatiron School',\n",
    "  topics: ['blah', 'blah', 'blah', 'blah'],\n",
    "  author: {\n",
    "            _id: ObjectId(83928shkjw183),\n",
    "            name: 'Andy Enkeboll',\n",
    "            building: 'Metropolitan Square'\n",
    "          }\n",
    "}\n",
    "```"
   ]
  },
  {
   "cell_type": "markdown",
   "metadata": {},
   "source": [
    "##### Why would we want to nest objects? "
   ]
  },
  {
   "cell_type": "markdown",
   "metadata": {},
   "source": [
    "Multiple Documents = Collection"
   ]
  },
  {
   "cell_type": "markdown",
   "metadata": {},
   "source": [
    "```json\n",
    "{ \n",
    "  _id: ObjectId(8af37bd7891c), \n",
    "  title: 'MongoDB Lab',\n",
    "  description: 'Introductory lab on how to use MongoDB',\n",
    "  by: 'Flatiron School',\n",
    "  topics: ['mongodb', 'database', 'NoSQL', 'JSON']  \n",
    "}, \n",
    "{ \n",
    "  _id: ObjectId(8af37bd78ssc), \n",
    "  title: 'Other Lab',\n",
    "  description: 'Introductory lab on how to use something',\n",
    "  by: 'Flatiron School',\n",
    "  topics: ['blah', 'blah', 'blah', 'blah']  \n",
    "}\n",
    "```"
   ]
  },
  {
   "cell_type": "markdown",
   "metadata": {},
   "source": [
    "#### Working with MongoDB"
   ]
  },
  {
   "cell_type": "markdown",
   "metadata": {},
   "source": [
    "Assuming you have installed/setup mongo and pip installed pymongo..."
   ]
  },
  {
   "cell_type": "code",
   "execution_count": 1,
   "metadata": {},
   "outputs": [
    {
     "name": "stdout",
     "output_type": "stream",
     "text": [
      "Requirement already satisfied: pymongo in /anaconda3/envs/learn-env/lib/python3.6/site-packages (3.9.0)\r\n"
     ]
    }
   ],
   "source": [
    "!pip install pymongo\n",
    "import pymongo\n",
    "import requests"
   ]
  },
  {
   "cell_type": "code",
   "execution_count": 2,
   "metadata": {},
   "outputs": [],
   "source": [
    "myclient = pymongo.MongoClient(\"mongodb://127.0.0.1:27017/\")\n",
    "\n",
    "# grab a database from your server \n",
    "mydb = myclient['example_data']\n",
    "\n",
    "#t his can be a new one or an existing one\n",
    "# (if it doesn't exist, it will get create when you write data into it)"
   ]
  },
  {
   "cell_type": "code",
   "execution_count": 3,
   "metadata": {},
   "outputs": [
    {
     "data": {
      "text/plain": [
       "['Football_Project', 'admin', 'config', 'example_data', 'local']"
      ]
     },
     "execution_count": 3,
     "metadata": {},
     "output_type": "execute_result"
    }
   ],
   "source": [
    "myclient.list_database_names()"
   ]
  },
  {
   "cell_type": "code",
   "execution_count": 4,
   "metadata": {},
   "outputs": [],
   "source": [
    "# initialize an empty collection - this where your 'documents' will go\n",
    "mycollection = mydb['example_collection']"
   ]
  },
  {
   "cell_type": "code",
   "execution_count": 5,
   "metadata": {},
   "outputs": [
    {
     "data": {
      "text/plain": [
       "['example_collection']"
      ]
     },
     "execution_count": 5,
     "metadata": {},
     "output_type": "execute_result"
    }
   ],
   "source": [
    "mydb.list_collection_names()"
   ]
  },
  {
   "cell_type": "code",
   "execution_count": 6,
   "metadata": {},
   "outputs": [
    {
     "data": {
      "text/plain": [
       "<pymongo.results.InsertOneResult at 0x10c38a248>"
      ]
     },
     "execution_count": 6,
     "metadata": {},
     "output_type": "execute_result"
    }
   ],
   "source": [
    "example_data = {'name': 'Jazz Doe', 'address': '123 Kings Street',\n",
    "                'age': 28, 'children': ['Jane', 'Joe']}\n",
    "mycollection.insert_one(example_data)"
   ]
  },
  {
   "cell_type": "code",
   "execution_count": 7,
   "metadata": {},
   "outputs": [],
   "source": [
    "#get all the documents in a collection\n",
    "query = mycollection.find({})"
   ]
  },
  {
   "cell_type": "code",
   "execution_count": 8,
   "metadata": {},
   "outputs": [
    {
     "name": "stdout",
     "output_type": "stream",
     "text": [
      "{'_id': ObjectId('5dbc0607e0cf2203d3dd1048'), 'name': 'Jazz Doe', 'address': '123 Kings Street', 'age': 28, 'children': ['Jane', 'Joe']}\n",
      "{'_id': ObjectId('5dbc06abd4732cff32f7b9da'), 'name': 'Jazz Doe', 'address': '123 Kings Street', 'age': 28, 'children': ['Jane', 'Joe']}\n"
     ]
    }
   ],
   "source": [
    "for document in query:\n",
    "    print(document)"
   ]
  },
  {
   "cell_type": "code",
   "execution_count": 9,
   "metadata": {},
   "outputs": [
    {
     "data": {
      "text/plain": [
       "<pymongo.results.InsertManyResult at 0x10cd4fe48>"
      ]
     },
     "execution_count": 9,
     "metadata": {},
     "output_type": "execute_result"
    }
   ],
   "source": [
    "example_data_2 = [\n",
    "    {'name': 'Andy', 'address': 'Cornwall'},\n",
    "    {'name': 'Marisa', 'address': 'London'},\n",
    "    {'name': 'Ammar'}\n",
    "                  ]\n",
    "mycollection.insert_many(example_data_2)"
   ]
  },
  {
   "cell_type": "code",
   "execution_count": 10,
   "metadata": {},
   "outputs": [],
   "source": [
    "query_1 = mycollection.find({})"
   ]
  },
  {
   "cell_type": "code",
   "execution_count": 11,
   "metadata": {
    "scrolled": true
   },
   "outputs": [
    {
     "name": "stdout",
     "output_type": "stream",
     "text": [
      "{'_id': ObjectId('5dbc0607e0cf2203d3dd1048'), 'name': 'Jazz Doe', 'address': '123 Kings Street', 'age': 28, 'children': ['Jane', 'Joe']}\n",
      "{'_id': ObjectId('5dbc06abd4732cff32f7b9da'), 'name': 'Jazz Doe', 'address': '123 Kings Street', 'age': 28, 'children': ['Jane', 'Joe']}\n",
      "{'_id': ObjectId('5dbc06abd4732cff32f7b9db'), 'name': 'Andy', 'address': 'Cornwall'}\n",
      "{'_id': ObjectId('5dbc06abd4732cff32f7b9dc'), 'name': 'Marisa', 'address': 'London'}\n",
      "{'_id': ObjectId('5dbc06abd4732cff32f7b9dd'), 'name': 'Ammar'}\n"
     ]
    }
   ],
   "source": [
    "for document in query_1:\n",
    "    print(document)"
   ]
  },
  {
   "cell_type": "code",
   "execution_count": 12,
   "metadata": {},
   "outputs": [],
   "source": [
    "query_2 = mycollection.find({'name': 'Jazz Doe'})"
   ]
  },
  {
   "cell_type": "code",
   "execution_count": 13,
   "metadata": {
    "scrolled": true
   },
   "outputs": [
    {
     "name": "stdout",
     "output_type": "stream",
     "text": [
      "{'_id': ObjectId('5dbc0607e0cf2203d3dd1048'), 'name': 'Jazz Doe', 'address': '123 Kings Street', 'age': 28, 'children': ['Jane', 'Joe']}\n",
      "{'_id': ObjectId('5dbc06abd4732cff32f7b9da'), 'name': 'Jazz Doe', 'address': '123 Kings Street', 'age': 28, 'children': ['Jane', 'Joe']}\n"
     ]
    }
   ],
   "source": [
    "for document in query_2:\n",
    "    print(document)"
   ]
  },
  {
   "cell_type": "code",
   "execution_count": 14,
   "metadata": {},
   "outputs": [
    {
     "data": {
      "text/plain": [
       "<pymongo.results.UpdateResult at 0x10cd398c8>"
      ]
     },
     "execution_count": 14,
     "metadata": {},
     "output_type": "execute_result"
    }
   ],
   "source": [
    "#updating records is super easy! \n",
    "record_to_update = {'name' : 'Jazz Doe'}\n",
    "update_1 = {'$set': {'age': 29, 'birthday': '2/8/1990'}}\n",
    "\n",
    "mycollection.update_many(record_to_update, update_1)"
   ]
  },
  {
   "cell_type": "code",
   "execution_count": 15,
   "metadata": {},
   "outputs": [
    {
     "name": "stdout",
     "output_type": "stream",
     "text": [
      "{'_id': ObjectId('5dbc0607e0cf2203d3dd1048'), 'name': 'Jazz Doe', 'address': '123 Kings Street', 'age': 29, 'children': ['Jane', 'Joe'], 'birthday': '2/8/1990'}\n",
      "{'_id': ObjectId('5dbc06abd4732cff32f7b9da'), 'name': 'Jazz Doe', 'address': '123 Kings Street', 'age': 29, 'children': ['Jane', 'Joe'], 'birthday': '2/8/1990'}\n"
     ]
    }
   ],
   "source": [
    "#searching in a list in a document\n",
    "query_4 = mycollection.find({'children': 'Jane'})\n",
    "for item in query_4:\n",
    "    print(item)"
   ]
  },
  {
   "cell_type": "code",
   "execution_count": 16,
   "metadata": {},
   "outputs": [
    {
     "data": {
      "text/plain": [
       "<pymongo.results.UpdateResult at 0x10cd9e348>"
      ]
     },
     "execution_count": 16,
     "metadata": {},
     "output_type": "execute_result"
    }
   ],
   "source": [
    "#removing a key:value from a document\n",
    "update_2 = {'$unset': {'birthday': ''}}\n",
    "\n",
    "mycollection.update_many(record_to_update, update_2)"
   ]
  },
  {
   "cell_type": "code",
   "execution_count": 17,
   "metadata": {},
   "outputs": [
    {
     "name": "stdout",
     "output_type": "stream",
     "text": [
      "{'_id': ObjectId('5dbc0607e0cf2203d3dd1048'), 'name': 'Jazz Doe', 'address': '123 Kings Street', 'age': 29, 'children': ['Jane', 'Joe']}\n",
      "{'_id': ObjectId('5dbc06abd4732cff32f7b9da'), 'name': 'Jazz Doe', 'address': '123 Kings Street', 'age': 29, 'children': ['Jane', 'Joe']}\n"
     ]
    }
   ],
   "source": [
    "query_5 = mycollection.find({'name': 'Jazz Doe'})\n",
    "for item in query_5:\n",
    "    print(item)"
   ]
  },
  {
   "cell_type": "code",
   "execution_count": 18,
   "metadata": {},
   "outputs": [
    {
     "data": {
      "text/plain": [
       "<pymongo.results.DeleteResult at 0x10cd4fc48>"
      ]
     },
     "execution_count": 18,
     "metadata": {},
     "output_type": "execute_result"
    }
   ],
   "source": [
    "#delete record\n",
    "mycollection.delete_one({'name' : 'Jazz Doe'})"
   ]
  },
  {
   "cell_type": "code",
   "execution_count": 19,
   "metadata": {},
   "outputs": [],
   "source": [
    "#delete all records\n",
    "# mycollection.delete_many({})"
   ]
  },
  {
   "cell_type": "markdown",
   "metadata": {},
   "source": [
    "### Working with Images"
   ]
  },
  {
   "cell_type": "code",
   "execution_count": 20,
   "metadata": {},
   "outputs": [],
   "source": [
    "resp = requests.get('https://www.dictionary.com/e/wp-content/uploads/2018/04/mongo.jpg')"
   ]
  },
  {
   "cell_type": "code",
   "execution_count": 21,
   "metadata": {},
   "outputs": [],
   "source": [
    "img = resp.content\n",
    "newcollection = mydb['newcollection']"
   ]
  },
  {
   "cell_type": "code",
   "execution_count": 22,
   "metadata": {},
   "outputs": [
    {
     "data": {
      "text/plain": [
       "<pymongo.results.InsertOneResult at 0x10d606dc8>"
      ]
     },
     "execution_count": 22,
     "metadata": {},
     "output_type": "execute_result"
    }
   ],
   "source": [
    "anewdict = {'a': 4, 'image': img}\n",
    "newcollection.insert_one(anewdict)"
   ]
  },
  {
   "cell_type": "code",
   "execution_count": 23,
   "metadata": {},
   "outputs": [
    {
     "data": {
      "text/plain": [
       "ObjectId('5dbc06b3d4732cff32f7b9de')"
      ]
     },
     "execution_count": 23,
     "metadata": {},
     "output_type": "execute_result"
    }
   ],
   "source": [
    "_.inserted_id"
   ]
  },
  {
   "cell_type": "code",
   "execution_count": 25,
   "metadata": {},
   "outputs": [],
   "source": [
    "# from IPython.display import Image\n",
    "\n",
    "# results = newcollection.find_one({'_id': _})\n",
    "# newimg = results.get('image')\n",
    "\n",
    "# len(newimg)\n",
    "# # Image(newimg)\n",
    "# with open('/Users/sndaiga/Downloads/mongo.jpg', 'wb') as f:\n",
    "#     f.write(newimg)"
   ]
  },
  {
   "cell_type": "code",
   "execution_count": null,
   "metadata": {},
   "outputs": [],
   "source": []
  }
 ],
 "metadata": {
  "kernelspec": {
   "display_name": "Python 3",
   "language": "python",
   "name": "python3"
  },
  "language_info": {
   "codemirror_mode": {
    "name": "ipython",
    "version": 3
   },
   "file_extension": ".py",
   "mimetype": "text/x-python",
   "name": "python",
   "nbconvert_exporter": "python",
   "pygments_lexer": "ipython3",
   "version": "3.6.9"
  },
  "toc": {
   "base_numbering": 1,
   "nav_menu": {},
   "number_sections": true,
   "sideBar": true,
   "skip_h1_title": false,
   "title_cell": "Table of Contents",
   "title_sidebar": "Contents",
   "toc_cell": false,
   "toc_position": {},
   "toc_section_display": true,
   "toc_window_display": false
  },
  "varInspector": {
   "cols": {
    "lenName": 16,
    "lenType": 16,
    "lenVar": 40
   },
   "kernels_config": {
    "python": {
     "delete_cmd_postfix": "",
     "delete_cmd_prefix": "del ",
     "library": "var_list.py",
     "varRefreshCmd": "print(var_dic_list())"
    },
    "r": {
     "delete_cmd_postfix": ") ",
     "delete_cmd_prefix": "rm(",
     "library": "var_list.r",
     "varRefreshCmd": "cat(var_dic_list()) "
    }
   },
   "types_to_exclude": [
    "module",
    "function",
    "builtin_function_or_method",
    "instance",
    "_Feature"
   ],
   "window_display": false
  }
 },
 "nbformat": 4,
 "nbformat_minor": 4
}
