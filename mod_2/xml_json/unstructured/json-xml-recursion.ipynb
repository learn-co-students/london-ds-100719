{
 "cells": [
  {
   "cell_type": "markdown",
   "metadata": {
    "slideshow": {
     "slide_type": "slide"
    }
   },
   "source": [
    "## JSON; Javascript Object Notation"
   ]
  },
  {
   "cell_type": "markdown",
   "metadata": {},
   "source": [
    "![img](img/Working-With-JSON-Data-in-Python_Watermarked.webp)"
   ]
  },
  {
   "cell_type": "markdown",
   "metadata": {},
   "source": [
    "(image totally belongs to Real Python and not us. Source [here](https://realpython.com/python-json/) )"
   ]
  },
  {
   "cell_type": "markdown",
   "metadata": {
    "slideshow": {
     "slide_type": "slide"
    }
   },
   "source": [
    "## Learning Goals:\n",
    "\n",
    "You will be able to:\n",
    "* Together explore an unknown JSON schemas\n",
    "* Access and manipulate data inside a JSON file\n",
    "* transform it to another data structure\n",
    "* Practice on a new json"
   ]
  },
  {
   "cell_type": "markdown",
   "metadata": {
    "slideshow": {
     "slide_type": "slide"
    }
   },
   "source": [
    "## Why do we care about JSON?"
   ]
  },
  {
   "cell_type": "markdown",
   "metadata": {
    "slideshow": {
     "slide_type": "slide"
    }
   },
   "source": [
    "### Great interest in JSON\n",
    "![json](img/stackoverflowtrends.svg)"
   ]
  },
  {
   "cell_type": "markdown",
   "metadata": {
    "slideshow": {
     "slide_type": "slide"
    }
   },
   "source": [
    "### JSON and python are popular"
   ]
  },
  {
   "cell_type": "markdown",
   "metadata": {
    "slideshow": {
     "slide_type": "-"
    }
   },
   "source": [
    "![trends](img/google_trends.png)"
   ]
  },
  {
   "cell_type": "markdown",
   "metadata": {
    "slideshow": {
     "slide_type": "slide"
    }
   },
   "source": [
    "## The OG reference on [JSON](https://www.json.org/)"
   ]
  },
  {
   "cell_type": "markdown",
   "metadata": {},
   "source": [
    "## Reviewing JSON Basics\n",
    "\n",
    "Before moving into more complicated manipulations of JSON files, let's review a basic JSON file. \n",
    "\n",
    "* JSON -- JavaScript Object Notation\n",
    "* XML -- Extensible Markup Language\n",
    "* HTML -- HyperText Markup Langauge\n",
    "\n",
    "* Discussion Question: What are they differences and or history of these thre terms and how the relate to the web?\n",
    "\n",
    "* Review JSON Structure"
   ]
  },
  {
   "cell_type": "code",
   "execution_count": 1,
   "metadata": {},
   "outputs": [
    {
     "data": {
      "text/plain": [
       "{'name': 'The Dog and Bell',\n",
       " 'location': 'Deptford',\n",
       " 'old_man_pub': True,\n",
       " 'years_old': 500,\n",
       " 'types_of_crips': ['salt and vinegar', 'sweet chili', 'prawn cocktail'],\n",
       " 'beers': [{'real_ales': [\"Truman's\", \"Harvey's\"],\n",
       "   'unreal_beers': ['Beavertown Neck Oil',\n",
       "    'Beavertown Gamma Ray',\n",
       "    'Punk IPA']}]}"
      ]
     },
     "execution_count": 1,
     "metadata": {},
     "output_type": "execute_result"
    }
   ],
   "source": [
    "import json as json\n",
    "\n",
    "dept = open('dept.json')\n",
    "dept_jsond = json.load(dept)\n",
    "dept_jsond"
   ]
  },
  {
   "cell_type": "markdown",
   "metadata": {},
   "source": [
    "## Quick Review\n",
    "\n",
    "In a text editor of your choice, create a JSON file that contains the following data about the person sitting next to you. \n",
    "After creating the file, scroll to the bottom of this page to find the JSON file validator.\n",
    "Check that you have the correct JSON format!\n",
    "\n",
    "* Their name\n",
    "* The name of any pets they currently have\n",
    "* If they live in North or South of the River\n",
    "* How many cups of coffee they have had to drink today\n",
    "* The names of their siblings\n",
    "* A list of the meals they had this past weekend.\n",
    "\n"
   ]
  },
  {
   "cell_type": "markdown",
   "metadata": {
    "slideshow": {
     "slide_type": "slide"
    }
   },
   "source": [
    "### Import the `json` library"
   ]
  },
  {
   "cell_type": "code",
   "execution_count": 14,
   "metadata": {
    "slideshow": {
     "slide_type": "fragment"
    }
   },
   "outputs": [],
   "source": [
    "import json as json"
   ]
  },
  {
   "cell_type": "markdown",
   "metadata": {
    "slideshow": {
     "slide_type": "fragment"
    }
   },
   "source": [
    "`json` library [documentation](https://docs.python.org/3/library/json.html)"
   ]
  },
  {
   "cell_type": "markdown",
   "metadata": {
    "slideshow": {
     "slide_type": "slide"
    }
   },
   "source": [
    "### What function do we use to load a json?\n",
    "**Task**: the file is called `google-maps-geocoding-results.json`<br>\n",
    "assign it to `data`"
   ]
  },
  {
   "cell_type": "code",
   "execution_count": 15,
   "metadata": {
    "slideshow": {
     "slide_type": "fragment"
    }
   },
   "outputs": [],
   "source": [
    "f = open('google-maps-geocoding-results.json')\n",
    "data = json.load(f)"
   ]
  },
  {
   "cell_type": "markdown",
   "metadata": {
    "slideshow": {
     "slide_type": "slide"
    }
   },
   "source": [
    "### Let's look at the data"
   ]
  },
  {
   "cell_type": "code",
   "execution_count": 18,
   "metadata": {
    "slideshow": {
     "slide_type": "fragment"
    }
   },
   "outputs": [
    {
     "name": "stdout",
     "output_type": "stream",
     "text": [
      "{'results': [{'address_components': [{'long_name': '708', 'short_name': '708', 'types': ['street_number']}, {'long_name': 'Main street', 'short_name': 'Main St', 'types': ['route']}, {'long_name': 'Central Business District', 'short_name': 'Central Business District', 'types': ['neighborhood', 'political']}, {'long_name': 'Houston', 'short_name': 'Houston', 'types': ['locality', 'political']}, {'long_name': 'Harris County', 'short_name': 'Harris County', 'types': ['administrative_area_level_2', 'political']}, {'long_name': 'Texas', 'short_name': 'TX', 'types': ['administrative_area_level_1', 'political']}, {'long_name': 'United States', 'short_name': 'US', 'types': ['country', 'political']}, {'long_name': '77002', 'short_name': '77002', 'types': ['postal_code']}], 'formatted_address': '708 Main St, Houston, TX 77002, USA', 'geometry': {'location': {'lat': 29.7590859, 'lng': -95.3636325}, 'location_type': 'ROOFTOP', 'viewport': {'northeast': {'lat': 29.7604348802915, 'lng': -95.3622835197085}, 'southwest': {'lat': 29.7577369197085, 'lng': -95.3649814802915}}}, 'place_id': 'ChIJ33MU3Dq_QIYRLea64akdlgQ', 'plus_code': {'compound_code': 'QJ5P+JG Downtown Houston, Houston, TX, United States', 'global_code': '76X6QJ5P+JG'}, 'types': ['street_address']}], 'status': 'OK'}\n"
     ]
    }
   ],
   "source": [
    "print(data)"
   ]
  },
  {
   "cell_type": "code",
   "execution_count": 19,
   "metadata": {
    "slideshow": {
     "slide_type": "fragment"
    }
   },
   "outputs": [
    {
     "data": {
      "text/plain": [
       "{'results': [{'address_components': [{'long_name': '708',\n",
       "     'short_name': '708',\n",
       "     'types': ['street_number']},\n",
       "    {'long_name': 'Main street', 'short_name': 'Main St', 'types': ['route']},\n",
       "    {'long_name': 'Central Business District',\n",
       "     'short_name': 'Central Business District',\n",
       "     'types': ['neighborhood', 'political']},\n",
       "    {'long_name': 'Houston',\n",
       "     'short_name': 'Houston',\n",
       "     'types': ['locality', 'political']},\n",
       "    {'long_name': 'Harris County',\n",
       "     'short_name': 'Harris County',\n",
       "     'types': ['administrative_area_level_2', 'political']},\n",
       "    {'long_name': 'Texas',\n",
       "     'short_name': 'TX',\n",
       "     'types': ['administrative_area_level_1', 'political']},\n",
       "    {'long_name': 'United States',\n",
       "     'short_name': 'US',\n",
       "     'types': ['country', 'political']},\n",
       "    {'long_name': '77002', 'short_name': '77002', 'types': ['postal_code']}],\n",
       "   'formatted_address': '708 Main St, Houston, TX 77002, USA',\n",
       "   'geometry': {'location': {'lat': 29.7590859, 'lng': -95.3636325},\n",
       "    'location_type': 'ROOFTOP',\n",
       "    'viewport': {'northeast': {'lat': 29.7604348802915,\n",
       "      'lng': -95.3622835197085},\n",
       "     'southwest': {'lat': 29.7577369197085, 'lng': -95.3649814802915}}},\n",
       "   'place_id': 'ChIJ33MU3Dq_QIYRLea64akdlgQ',\n",
       "   'plus_code': {'compound_code': 'QJ5P+JG Downtown Houston, Houston, TX, United States',\n",
       "    'global_code': '76X6QJ5P+JG'},\n",
       "   'types': ['street_address']}],\n",
       " 'status': 'OK'}"
      ]
     },
     "execution_count": 19,
     "metadata": {},
     "output_type": "execute_result"
    }
   ],
   "source": [
    "data"
   ]
  },
  {
   "cell_type": "markdown",
   "metadata": {
    "slideshow": {
     "slide_type": "slide"
    }
   },
   "source": [
    "### Hm, that second bit looks familiar...."
   ]
  },
  {
   "cell_type": "markdown",
   "metadata": {
    "slideshow": {
     "slide_type": "fragment"
    }
   },
   "source": [
    "#### How does python classify the json object?"
   ]
  },
  {
   "cell_type": "code",
   "execution_count": 20,
   "metadata": {},
   "outputs": [
    {
     "data": {
      "text/plain": [
       "dict"
      ]
     },
     "execution_count": 20,
     "metadata": {},
     "output_type": "execute_result"
    }
   ],
   "source": [
    "type(data)"
   ]
  },
  {
   "cell_type": "markdown",
   "metadata": {
    "slideshow": {
     "slide_type": "slide"
    }
   },
   "source": [
    "Because we know it's a `dictionary` we can now reference `keys`, `values`, and `items`"
   ]
  },
  {
   "cell_type": "markdown",
   "metadata": {
    "slideshow": {
     "slide_type": "slide"
    }
   },
   "source": [
    "#### Look at the data and try to navigate it!"
   ]
  },
  {
   "cell_type": "code",
   "execution_count": 21,
   "metadata": {},
   "outputs": [
    {
     "data": {
      "text/plain": [
       "dict_keys(['results', 'status'])"
      ]
     },
     "execution_count": 21,
     "metadata": {},
     "output_type": "execute_result"
    }
   ],
   "source": [
    "data.keys()"
   ]
  },
  {
   "cell_type": "markdown",
   "metadata": {
    "slideshow": {
     "slide_type": "slide"
    }
   },
   "source": [
    "#### What type of item is `results`?"
   ]
  },
  {
   "cell_type": "code",
   "execution_count": 22,
   "metadata": {},
   "outputs": [
    {
     "data": {
      "text/plain": [
       "[{'address_components': [{'long_name': '708',\n",
       "    'short_name': '708',\n",
       "    'types': ['street_number']},\n",
       "   {'long_name': 'Main street', 'short_name': 'Main St', 'types': ['route']},\n",
       "   {'long_name': 'Central Business District',\n",
       "    'short_name': 'Central Business District',\n",
       "    'types': ['neighborhood', 'political']},\n",
       "   {'long_name': 'Houston',\n",
       "    'short_name': 'Houston',\n",
       "    'types': ['locality', 'political']},\n",
       "   {'long_name': 'Harris County',\n",
       "    'short_name': 'Harris County',\n",
       "    'types': ['administrative_area_level_2', 'political']},\n",
       "   {'long_name': 'Texas',\n",
       "    'short_name': 'TX',\n",
       "    'types': ['administrative_area_level_1', 'political']},\n",
       "   {'long_name': 'United States',\n",
       "    'short_name': 'US',\n",
       "    'types': ['country', 'political']},\n",
       "   {'long_name': '77002', 'short_name': '77002', 'types': ['postal_code']}],\n",
       "  'formatted_address': '708 Main St, Houston, TX 77002, USA',\n",
       "  'geometry': {'location': {'lat': 29.7590859, 'lng': -95.3636325},\n",
       "   'location_type': 'ROOFTOP',\n",
       "   'viewport': {'northeast': {'lat': 29.7604348802915,\n",
       "     'lng': -95.3622835197085},\n",
       "    'southwest': {'lat': 29.7577369197085, 'lng': -95.3649814802915}}},\n",
       "  'place_id': 'ChIJ33MU3Dq_QIYRLea64akdlgQ',\n",
       "  'plus_code': {'compound_code': 'QJ5P+JG Downtown Houston, Houston, TX, United States',\n",
       "   'global_code': '76X6QJ5P+JG'},\n",
       "  'types': ['street_address']}]"
      ]
     },
     "execution_count": 22,
     "metadata": {},
     "output_type": "execute_result"
    }
   ],
   "source": [
    "results = data['results']\n",
    "results"
   ]
  },
  {
   "cell_type": "code",
   "execution_count": 24,
   "metadata": {
    "slideshow": {
     "slide_type": "fragment"
    }
   },
   "outputs": [
    {
     "data": {
      "text/plain": [
       "list"
      ]
     },
     "execution_count": 24,
     "metadata": {},
     "output_type": "execute_result"
    }
   ],
   "source": [
    "type(results)"
   ]
  },
  {
   "cell_type": "markdown",
   "metadata": {
    "slideshow": {
     "slide_type": "slide"
    }
   },
   "source": [
    "But what `type` is the first element in `results`?"
   ]
  },
  {
   "cell_type": "code",
   "execution_count": 25,
   "metadata": {},
   "outputs": [
    {
     "data": {
      "text/plain": [
       "{'address_components': [{'long_name': '708',\n",
       "   'short_name': '708',\n",
       "   'types': ['street_number']},\n",
       "  {'long_name': 'Main street', 'short_name': 'Main St', 'types': ['route']},\n",
       "  {'long_name': 'Central Business District',\n",
       "   'short_name': 'Central Business District',\n",
       "   'types': ['neighborhood', 'political']},\n",
       "  {'long_name': 'Houston',\n",
       "   'short_name': 'Houston',\n",
       "   'types': ['locality', 'political']},\n",
       "  {'long_name': 'Harris County',\n",
       "   'short_name': 'Harris County',\n",
       "   'types': ['administrative_area_level_2', 'political']},\n",
       "  {'long_name': 'Texas',\n",
       "   'short_name': 'TX',\n",
       "   'types': ['administrative_area_level_1', 'political']},\n",
       "  {'long_name': 'United States',\n",
       "   'short_name': 'US',\n",
       "   'types': ['country', 'political']},\n",
       "  {'long_name': '77002', 'short_name': '77002', 'types': ['postal_code']}],\n",
       " 'formatted_address': '708 Main St, Houston, TX 77002, USA',\n",
       " 'geometry': {'location': {'lat': 29.7590859, 'lng': -95.3636325},\n",
       "  'location_type': 'ROOFTOP',\n",
       "  'viewport': {'northeast': {'lat': 29.7604348802915,\n",
       "    'lng': -95.3622835197085},\n",
       "   'southwest': {'lat': 29.7577369197085, 'lng': -95.3649814802915}}},\n",
       " 'place_id': 'ChIJ33MU3Dq_QIYRLea64akdlgQ',\n",
       " 'plus_code': {'compound_code': 'QJ5P+JG Downtown Houston, Houston, TX, United States',\n",
       "  'global_code': '76X6QJ5P+JG'},\n",
       " 'types': ['street_address']}"
      ]
     },
     "execution_count": 25,
     "metadata": {},
     "output_type": "execute_result"
    }
   ],
   "source": [
    "results[0] "
   ]
  },
  {
   "cell_type": "markdown",
   "metadata": {
    "slideshow": {
     "slide_type": "slide"
    }
   },
   "source": [
    "#### So what are the keys?\n",
    "Is this where we finally find the relevent information?"
   ]
  },
  {
   "cell_type": "code",
   "execution_count": 26,
   "metadata": {},
   "outputs": [
    {
     "data": {
      "text/plain": [
       "dict_keys(['address_components', 'formatted_address', 'geometry', 'place_id', 'plus_code', 'types'])"
      ]
     },
     "execution_count": 26,
     "metadata": {},
     "output_type": "execute_result"
    }
   ],
   "source": [
    "data['results'][0].keys()  # Return to using higher data structure"
   ]
  },
  {
   "cell_type": "markdown",
   "metadata": {
    "slideshow": {
     "slide_type": "slide"
    }
   },
   "source": [
    "**Okay**....Check the type of `address_components`, does it have keys or a list?<br>\n",
    "Let's target a specific value like 'Main street'"
   ]
  },
  {
   "cell_type": "code",
   "execution_count": 27,
   "metadata": {},
   "outputs": [
    {
     "data": {
      "text/plain": [
       "{'long_name': 'Main street', 'short_name': 'Main St', 'types': ['route']}"
      ]
     },
     "execution_count": 27,
     "metadata": {},
     "output_type": "execute_result"
    }
   ],
   "source": [
    "data['results'][0]['address_components'][1]\n",
    "#type(data['results'][0]['address_components'][1])"
   ]
  },
  {
   "cell_type": "markdown",
   "metadata": {
    "slideshow": {
     "slide_type": "slide"
    }
   },
   "source": [
    "#### Okay, so let's use a for loop to get the entire address information"
   ]
  },
  {
   "cell_type": "code",
   "execution_count": 13,
   "metadata": {},
   "outputs": [
    {
     "name": "stdout",
     "output_type": "stream",
     "text": [
      "708\n",
      "Main street\n",
      "Central Business District\n",
      "Houston\n",
      "Harris County\n",
      "Texas\n",
      "United States\n",
      "77002\n"
     ]
    }
   ],
   "source": [
    "for address_component in data['results']:\n",
    "    for component in address_component['address_components']:\n",
    "        print(component['long_name'])\n",
    "I \n",
    "\n",
    "# First Line Declares that we want the Results level, not STATUS\n",
    "# Second line, declares next level of interest is address components \n",
    "\n",
    "#     for x in lat['geometry'].values():\n",
    "#         for y in x.values():\n",
    "#             print(y)"
   ]
  },
  {
   "cell_type": "code",
   "execution_count": 15,
   "metadata": {},
   "outputs": [
    {
     "name": "stdout",
     "output_type": "stream",
     "text": [
      "{'address_components': [{'long_name': '708', 'short_name': '708', 'types': ['street_number']}, {'long_name': 'Main street', 'short_name': 'Main St', 'types': ['route']}, {'long_name': 'Central Business District', 'short_name': 'Central Business District', 'types': ['neighborhood', 'political']}, {'long_name': 'Houston', 'short_name': 'Houston', 'types': ['locality', 'political']}, {'long_name': 'Harris County', 'short_name': 'Harris County', 'types': ['administrative_area_level_2', 'political']}, {'long_name': 'Texas', 'short_name': 'TX', 'types': ['administrative_area_level_1', 'political']}, {'long_name': 'United States', 'short_name': 'US', 'types': ['country', 'political']}, {'long_name': '77002', 'short_name': '77002', 'types': ['postal_code']}], 'formatted_address': '708 Main St, Houston, TX 77002, USA', 'geometry': {'location': {'lat': 29.7590859, 'lng': -95.3636325}, 'location_type': 'ROOFTOP', 'viewport': {'northeast': {'lat': 29.7604348802915, 'lng': -95.3622835197085}, 'southwest': {'lat': 29.7577369197085, 'lng': -95.3649814802915}}}, 'place_id': 'ChIJ33MU3Dq_QIYRLea64akdlgQ', 'plus_code': {'compound_code': 'QJ5P+JG Downtown Houston, Houston, TX, United States', 'global_code': '76X6QJ5P+JG'}, 'types': ['street_address']}\n",
      "\n",
      "\n",
      "Print Keys of Dictionary\n",
      "dict_keys(['address_components', 'formatted_address', 'geometry', 'place_id', 'plus_code', 'types'])\n",
      "\n",
      "\n",
      "Print Values of Dictionary\n",
      "dict_values([[{'long_name': '708', 'short_name': '708', 'types': ['street_number']}, {'long_name': 'Main street', 'short_name': 'Main St', 'types': ['route']}, {'long_name': 'Central Business District', 'short_name': 'Central Business District', 'types': ['neighborhood', 'political']}, {'long_name': 'Houston', 'short_name': 'Houston', 'types': ['locality', 'political']}, {'long_name': 'Harris County', 'short_name': 'Harris County', 'types': ['administrative_area_level_2', 'political']}, {'long_name': 'Texas', 'short_name': 'TX', 'types': ['administrative_area_level_1', 'political']}, {'long_name': 'United States', 'short_name': 'US', 'types': ['country', 'political']}, {'long_name': '77002', 'short_name': '77002', 'types': ['postal_code']}], '708 Main St, Houston, TX 77002, USA', {'location': {'lat': 29.7590859, 'lng': -95.3636325}, 'location_type': 'ROOFTOP', 'viewport': {'northeast': {'lat': 29.7604348802915, 'lng': -95.3622835197085}, 'southwest': {'lat': 29.7577369197085, 'lng': -95.3649814802915}}}, 'ChIJ33MU3Dq_QIYRLea64akdlgQ', {'compound_code': 'QJ5P+JG Downtown Houston, Houston, TX, United States', 'global_code': '76X6QJ5P+JG'}, ['street_address']])\n",
      "\n",
      "\n",
      "Print Items of Dictionary\n",
      "dict_items([('address_components', [{'long_name': '708', 'short_name': '708', 'types': ['street_number']}, {'long_name': 'Main street', 'short_name': 'Main St', 'types': ['route']}, {'long_name': 'Central Business District', 'short_name': 'Central Business District', 'types': ['neighborhood', 'political']}, {'long_name': 'Houston', 'short_name': 'Houston', 'types': ['locality', 'political']}, {'long_name': 'Harris County', 'short_name': 'Harris County', 'types': ['administrative_area_level_2', 'political']}, {'long_name': 'Texas', 'short_name': 'TX', 'types': ['administrative_area_level_1', 'political']}, {'long_name': 'United States', 'short_name': 'US', 'types': ['country', 'political']}, {'long_name': '77002', 'short_name': '77002', 'types': ['postal_code']}]), ('formatted_address', '708 Main St, Houston, TX 77002, USA'), ('geometry', {'location': {'lat': 29.7590859, 'lng': -95.3636325}, 'location_type': 'ROOFTOP', 'viewport': {'northeast': {'lat': 29.7604348802915, 'lng': -95.3622835197085}, 'southwest': {'lat': 29.7577369197085, 'lng': -95.3649814802915}}}), ('place_id', 'ChIJ33MU3Dq_QIYRLea64akdlgQ'), ('plus_code', {'compound_code': 'QJ5P+JG Downtown Houston, Houston, TX, United States', 'global_code': '76X6QJ5P+JG'}), ('types', ['street_address'])])\n",
      "\n",
      "\n",
      "Remember Address Components is a Dictionary!\n",
      "This is what the first object looks like:\n",
      "{'long_name': '708', 'short_name': '708', 'types': ['street_number']}\n",
      "\n",
      "\n",
      "Now we dive a bit deeper to get where our data actually is...\n",
      "This is what the first object looks like:\n",
      "708\n",
      "\n",
      "\n",
      "Loop Through Indexing of Address Components\n",
      "708\n",
      "Main street\n",
      "Central Business District\n",
      "Houston\n",
      "Harris County\n",
      "Texas\n",
      "United States\n",
      "77002\n"
     ]
    }
   ],
   "source": [
    "# Breakdown of Loop\n",
    "for address_component in data['results']:\n",
    "    print(address_component)\n",
    "    \n",
    "print(\"\\n\")\n",
    "print(\"Print Keys of Dictionary\")\n",
    "for address_component in data['results']:\n",
    "    print(address_component.keys())\n",
    "\n",
    "print(\"\\n\")\n",
    "print(\"Print Values of Dictionary\")\n",
    "for address_component in data['results']:\n",
    "    print(address_component.values())\n",
    "    \n",
    "print(\"\\n\")\n",
    "print(\"Print Items of Dictionary\")\n",
    "for address_component in data['results']:\n",
    "    print(address_component.items())\n",
    "\n",
    "print(\"\\n\")\n",
    "print(\"Remember Address Components is a Dictionary!\")\n",
    "print(\"This is what the first object looks like:\")\n",
    "print(data['results'][0]['address_components'][0])\n",
    "\n",
    "print(\"\\n\")\n",
    "print(\"Now we dive a bit deeper to get where our data actually is...\")\n",
    "print(\"This is what the first object looks like:\")\n",
    "print(data['results'][0]['address_components'][0]['long_name'])  \n",
    "    \n",
    "print(\"\\n\")    \n",
    "print(\"Loop Through Indexing of Address Components\")    \n",
    "for address_component in data['results']:\n",
    "    for component in address_component['address_components']:\n",
    "        print(component['long_name'])"
   ]
  },
  {
   "cell_type": "markdown",
   "metadata": {
    "slideshow": {
     "slide_type": "slide"
    }
   },
   "source": [
    "#### Task:\n",
    "- In what type of structure is the lat and long located?\n",
    "- How would you access the lat and long of this lcoation?\n",
    "- Write the code to access the lat and long"
   ]
  },
  {
   "cell_type": "code",
   "execution_count": 18,
   "metadata": {},
   "outputs": [],
   "source": []
  },
  {
   "cell_type": "code",
   "execution_count": 17,
   "metadata": {},
   "outputs": [],
   "source": []
  },
  {
   "cell_type": "markdown",
   "metadata": {
    "slideshow": {
     "slide_type": "slide"
    }
   },
   "source": [
    "### Analysis: \n",
    "We cannot run any machine learning algorithms on a json, the data needs to be in tabular format.\n",
    "\n",
    "What if we wanted to store that information to a df?"
   ]
  },
  {
   "cell_type": "code",
   "execution_count": 16,
   "metadata": {
    "slideshow": {
     "slide_type": "slide"
    }
   },
   "outputs": [
    {
     "data": {
      "text/html": [
       "<div>\n",
       "<style scoped>\n",
       "    .dataframe tbody tr th:only-of-type {\n",
       "        vertical-align: middle;\n",
       "    }\n",
       "\n",
       "    .dataframe tbody tr th {\n",
       "        vertical-align: top;\n",
       "    }\n",
       "\n",
       "    .dataframe thead th {\n",
       "        text-align: right;\n",
       "    }\n",
       "</style>\n",
       "<table border=\"1\" class=\"dataframe\">\n",
       "  <thead>\n",
       "    <tr style=\"text-align: right;\">\n",
       "      <th></th>\n",
       "      <th>number</th>\n",
       "      <th>street</th>\n",
       "      <th>district</th>\n",
       "      <th>city</th>\n",
       "      <th>county</th>\n",
       "      <th>state</th>\n",
       "      <th>country</th>\n",
       "      <th>zip</th>\n",
       "    </tr>\n",
       "  </thead>\n",
       "  <tbody>\n",
       "    <tr>\n",
       "      <th>0</th>\n",
       "      <td>708</td>\n",
       "      <td>Main street</td>\n",
       "      <td>Central Business District</td>\n",
       "      <td>Houston</td>\n",
       "      <td>Harris County</td>\n",
       "      <td>Texas</td>\n",
       "      <td>United States</td>\n",
       "      <td>77002</td>\n",
       "    </tr>\n",
       "  </tbody>\n",
       "</table>\n",
       "</div>"
      ],
      "text/plain": [
       "  number       street                   district     city         county  \\\n",
       "0    708  Main street  Central Business District  Houston  Harris County   \n",
       "\n",
       "   state        country    zip  \n",
       "0  Texas  United States  77002  "
      ]
     },
     "execution_count": 16,
     "metadata": {},
     "output_type": "execute_result"
    }
   ],
   "source": [
    "import pandas as pd\n",
    "\n",
    "dfcols = ['number', 'street', 'district', 'city', 'county', 'state', 'country', 'zip']\n",
    "df = pd.DataFrame(columns=dfcols)\n",
    "\n",
    "address = []\n",
    "\n",
    "for address_component in data['results']:\n",
    "    for component in address_component['address_components']:\n",
    "        address.append(component['long_name'])\n",
    "    df = df.append(pd.Series(address, index=dfcols), ignore_index=True)\n",
    "\n",
    "df.head()"
   ]
  },
  {
   "cell_type": "markdown",
   "metadata": {
    "slideshow": {
     "slide_type": "slide"
    }
   },
   "source": [
    "#### Task:\n",
    "How would you enhance the code above to add the primary latitude and longitude for this location to the data frame?"
   ]
  },
  {
   "cell_type": "code",
   "execution_count": 17,
   "metadata": {},
   "outputs": [
    {
     "data": {
      "text/html": [
       "<div>\n",
       "<style scoped>\n",
       "    .dataframe tbody tr th:only-of-type {\n",
       "        vertical-align: middle;\n",
       "    }\n",
       "\n",
       "    .dataframe tbody tr th {\n",
       "        vertical-align: top;\n",
       "    }\n",
       "\n",
       "    .dataframe thead th {\n",
       "        text-align: right;\n",
       "    }\n",
       "</style>\n",
       "<table border=\"1\" class=\"dataframe\">\n",
       "  <thead>\n",
       "    <tr style=\"text-align: right;\">\n",
       "      <th></th>\n",
       "      <th>number</th>\n",
       "      <th>street</th>\n",
       "      <th>district</th>\n",
       "      <th>city</th>\n",
       "      <th>county</th>\n",
       "      <th>state</th>\n",
       "      <th>country</th>\n",
       "      <th>zip</th>\n",
       "    </tr>\n",
       "  </thead>\n",
       "  <tbody>\n",
       "    <tr>\n",
       "      <th>0</th>\n",
       "      <td>708</td>\n",
       "      <td>Main street</td>\n",
       "      <td>Central Business District</td>\n",
       "      <td>Houston</td>\n",
       "      <td>Harris County</td>\n",
       "      <td>Texas</td>\n",
       "      <td>United States</td>\n",
       "      <td>77002</td>\n",
       "    </tr>\n",
       "  </tbody>\n",
       "</table>\n",
       "</div>"
      ],
      "text/plain": [
       "  number       street                   district     city         county  \\\n",
       "0    708  Main street  Central Business District  Houston  Harris County   \n",
       "\n",
       "   state        country    zip  \n",
       "0  Texas  United States  77002  "
      ]
     },
     "execution_count": 17,
     "metadata": {},
     "output_type": "execute_result"
    }
   ],
   "source": [
    "dfcosl2 = ['number', 'street', 'district', 'city', 'county', 'state', 'country', 'zip', 'lat','long']\n",
    "\n",
    "\n",
    "df = pd.DataFrame(columns=dfcols)\n",
    "\n",
    "address = []\n",
    "\n",
    "for address_component in data['results']:\n",
    "    for component in address_component['address_components']:\n",
    "        address.append(component['long_name'])\n",
    "    df = df.append(pd.Series(address, index=dfcols), ignore_index=True)\n",
    "\n",
    "df.head()"
   ]
  },
  {
   "cell_type": "markdown",
   "metadata": {
    "slideshow": {
     "slide_type": "slide"
    }
   },
   "source": [
    "### Why are we using this difficult process? isn't there an easier way?"
   ]
  },
  {
   "cell_type": "markdown",
   "metadata": {
    "slideshow": {
     "slide_type": "fragment"
    }
   },
   "source": [
    "there is `pd.DataFrame.from_dict` and `pd.read_json`, but if you try them, what happens?"
   ]
  },
  {
   "cell_type": "code",
   "execution_count": null,
   "metadata": {},
   "outputs": [],
   "source": []
  },
  {
   "cell_type": "markdown",
   "metadata": {
    "slideshow": {
     "slide_type": "slide"
    }
   },
   "source": [
    "There is also `pandas.io.json import json_normalize` you can run to _flatten_ nested data, but you should *always* look at your data first before transforming it. "
   ]
  },
  {
   "cell_type": "markdown",
   "metadata": {
    "slideshow": {
     "slide_type": "slide"
    }
   },
   "source": [
    "## Integration:\n",
    "\n",
    "Use the json `brewreydb.json` to build a table of relevant beer information for analysis.\n"
   ]
  },
  {
   "cell_type": "code",
   "execution_count": 18,
   "metadata": {},
   "outputs": [],
   "source": [
    "beer = open('brewerydb.json')\n",
    "beer_data = json.load(beer)"
   ]
  },
  {
   "cell_type": "markdown",
   "metadata": {
    "slideshow": {
     "slide_type": "slide"
    }
   },
   "source": [
    "### Assessment:"
   ]
  },
  {
   "cell_type": "markdown",
   "metadata": {
    "slideshow": {
     "slide_type": "fragment"
    }
   },
   "source": [
    "True/False: JSON files and dictionaries are the same"
   ]
  },
  {
   "cell_type": "markdown",
   "metadata": {
    "slideshow": {
     "slide_type": "fragment"
    }
   },
   "source": [
    " "
   ]
  },
  {
   "cell_type": "markdown",
   "metadata": {
    "slideshow": {
     "slide_type": "fragment"
    }
   },
   "source": [
    "True/False: the `json` library loads jsons into dictionary format in python"
   ]
  },
  {
   "cell_type": "markdown",
   "metadata": {
    "slideshow": {
     "slide_type": "fragment"
    }
   },
   "source": []
  },
  {
   "cell_type": "markdown",
   "metadata": {
    "slideshow": {
     "slide_type": "fragment"
    }
   },
   "source": [
    "APIs will most often provide data in what formats?\n",
    "\n",
    "List Four!\n",
    "\n"
   ]
  },
  {
   "cell_type": "markdown",
   "metadata": {
    "slideshow": {
     "slide_type": "slide"
    }
   },
   "source": [
    "**Further Reading**\n",
    "\n",
    "[article 1](https://towardsdatascience.com/the-easy-way-to-work-with-csv-json-and-xml-in-python-5056f9325ca9)<br>\n",
    "[article 2](https://towardsdatascience.com/my-love-affair-with-json-edaca39e8320)<br>\n",
    "[article 3](https://medium.com/@martindrapeau/the-state-of-csv-and-json-d97d1486333)"
   ]
  },
  {
   "cell_type": "markdown",
   "metadata": {
    "slideshow": {
     "slide_type": "slide"
    }
   },
   "source": [
    "### Some neat tools for JSONs"
   ]
  },
  {
   "cell_type": "markdown",
   "metadata": {
    "slideshow": {
     "slide_type": "fragment"
    }
   },
   "source": [
    "[The JSON Validator](https://jsonlint.com)<br>\n",
    "JSONLint is the free online validator and reformatter tool for JSON, a lightweight data-interchange format.\n",
    "\n",
    "Andy used it when:\n",
    "- created my own json and want to validate the format\n",
    "- copied a json, want to make sure I copied it right\n",
    " - it's ugly and I want to see it in a prettier way, like without its glasses and hair down\n",
    "- everything aws is done through json objects - permissions, provisioning servers and anything else\n"
   ]
  },
  {
   "cell_type": "markdown",
   "metadata": {
    "slideshow": {
     "slide_type": "fragment"
    }
   },
   "source": [
    "[JSONview](https://chrome.google.com/webstore/detail/jsonview/gmegofmjomhknnokphhckolhcffdaihd?hl=en) - a chrome plug in that lets you view jsons nicely\n"
   ]
  }
 ],
 "metadata": {
  "kernelspec": {
   "display_name": "Python 3",
   "language": "python",
   "name": "python3"
  },
  "language_info": {
   "codemirror_mode": {
    "name": "ipython",
    "version": 3
   },
   "file_extension": ".py",
   "mimetype": "text/x-python",
   "name": "python",
   "nbconvert_exporter": "python",
   "pygments_lexer": "ipython3",
   "version": "3.7.3"
  }
 },
 "nbformat": 4,
 "nbformat_minor": 2
}
